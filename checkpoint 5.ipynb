{
 "cells": [
  {
   "cell_type": "code",
   "execution_count": null,
   "id": "e0ac3e35",
   "metadata": {},
   "outputs": [],
   "source": [
    "#exo1\n",
    "class Point3D():\n",
    "    def __init__(self,x,y,z):\n",
    "        self.x = x\n",
    "        self.y = y\n",
    "        self.z = z\n",
    "    def exo1(self):\n",
    "        return self.x, self.y, self.z\n",
    "my_point = Point3D(1,2,3)\n",
    "my_point.exo1()\n"
   ]
  },
  {
   "cell_type": "code",
   "execution_count": null,
   "id": "84bbc8a6",
   "metadata": {},
   "outputs": [],
   "source": [
    "#exo2\n",
    "class Rectangle():\n",
    "    def __init__(self, longueur, largeur):\n",
    "        self.longueur=longueur\n",
    "        self.largeur=largeur\n",
    "    def surface(self):\n",
    "        return self.longueur*self.largeur\n",
    "    def périmètre(self):\n",
    "        return 2*self.longueur + 2*self.largeur\n",
    "my_rectangle = Rectangle(3,4)\n",
    "my_rectangle.surface()\n",
    "my rectangle.périmètre()"
   ]
  },
  {
   "cell_type": "code",
   "execution_count": null,
   "id": "51427824",
   "metadata": {},
   "outputs": [],
   "source": [
    "#exo3\n",
    "class Circle():\n",
    "    def __init__(self,o,r,a):\n",
    "        self.o= o\n",
    "        self.r= r\n",
    "        self.a= int(input('entrez les coordonnées de votre point séparé par une virgule: ')).split(',')\n",
    "    def surface(self):\n",
    "        print(3.14*self.r**2)\n",
    "    def perimetre(self):\n",
    "        print(2*3.14*self.r)\n",
    "# pour savoir si un point est dans un cercle, la condition suivante doit être respectée: A(x,y) x**2 + y**2 = r**2\n",
    "    def inside(self):\n",
    "        if self.a[0]**2 + self.a[1]**2==self.r**2:\n",
    "            print('votre point est dans le cercle')\n",
    "rou = Circle(5,10,(9,8))\n",
    "rou.inside()\n",
    "\n",
    "#je n'arrive pas à résoudre les erreurs"
   ]
  },
  {
   "cell_type": "code",
   "execution_count": null,
   "id": "3e3b1276",
   "metadata": {},
   "outputs": [],
   "source": [
    "#exo4\n",
    "class bank():\n",
    "    def __init__(self,solde):\n",
    "        self.solde=solde\n",
    "    def deposit(self):\n",
    "        exo4 = float(input('entrez le montant déposer: '))\n",
    "        return self.solde + exo4\n",
    "    def withdraw(self):\n",
    "        exo4_= float(input('entrez le montant retirer: '))\n",
    "        return self.solde - exo4_"
   ]
  }
 ],
 "metadata": {
  "kernelspec": {
   "display_name": "Python 3 (ipykernel)",
   "language": "python",
   "name": "python3"
  },
  "language_info": {
   "codemirror_mode": {
    "name": "ipython",
    "version": 3
   },
   "file_extension": ".py",
   "mimetype": "text/x-python",
   "name": "python",
   "nbconvert_exporter": "python",
   "pygments_lexer": "ipython3",
   "version": "3.9.13"
  }
 },
 "nbformat": 4,
 "nbformat_minor": 5
}
